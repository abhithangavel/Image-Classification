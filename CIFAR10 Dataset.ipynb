{
  "nbformat": 4,
  "nbformat_minor": 0,
  "metadata": {
    "colab": {
      "provenance": []
    },
    "kernelspec": {
      "name": "python3",
      "display_name": "Python 3"
    },
    "language_info": {
      "name": "python"
    }
  },
  "cells": [
    {
      "cell_type": "markdown",
      "source": [
        "##Part 1: CIFAR10 Classification\n",
        "\n",
        "Follow along the tutorial for CIFAR10 classification found here: https://pytorch.org/tutorials/beginner/blitz/cifar10_tutorial.html."
      ],
      "metadata": {
        "id": "s3CUAh9XeYCM"
      }
    },
    {
      "cell_type": "code",
      "execution_count": 8,
      "metadata": {
        "id": "84AjcT6cGb-x",
        "colab": {
          "base_uri": "https://localhost:8080/"
        },
        "outputId": "e098231d-222a-497e-92c4-ce494fedbf3e"
      },
      "outputs": [
        {
          "output_type": "stream",
          "name": "stdout",
          "text": [
            "Files already downloaded and verified\n",
            "Files already downloaded and verified\n"
          ]
        }
      ],
      "source": [
        "# Load the CIFAR10 data\n",
        "import torch\n",
        "import torchvision\n",
        "import torchvision.transforms as transforms\n",
        "\n",
        "transform = transforms.Compose(\n",
        "    [transforms.ToTensor(),\n",
        "     transforms.Normalize((0.5, 0.5, 0.5), (0.5, 0.5, 0.5))])\n",
        "\n",
        "batch_size = 4\n",
        "\n",
        "trainset = torchvision.datasets.CIFAR10(root='./data', train=True,\n",
        "                                        download=True, transform=transform)\n",
        "trainloader = torch.utils.data.DataLoader(trainset, batch_size=batch_size,\n",
        "                                          shuffle=True, num_workers=2)\n",
        "\n",
        "testset = torchvision.datasets.CIFAR10(root='./data', train=False,\n",
        "                                       download=True, transform=transform)\n",
        "testloader = torch.utils.data.DataLoader(testset, batch_size=batch_size,\n",
        "                                         shuffle=False, num_workers=2)\n",
        "\n",
        "classes = ('plane', 'car', 'bird', 'cat',\n",
        "           'deer', 'dog', 'frog', 'horse', 'ship', 'truck')\n"
      ]
    },
    {
      "cell_type": "code",
      "source": [
        "# Visualize the data\n",
        "import matplotlib.pyplot as plt\n",
        "import numpy as np\n",
        "\n",
        "# Functions to show an image\n",
        "def imshow(img):\n",
        "    img = img / 2 + 0.5\n",
        "    npimg = img.numpy()\n",
        "    plt.imshow(np.transpose(npimg, (1, 2, 0)))\n",
        "    plt.show()\n",
        "\n",
        "\n",
        "# Get some random training images\n",
        "dataiter = iter(trainloader)\n",
        "images, labels = next(dataiter)\n",
        "\n",
        "# Show images\n",
        "imshow(torchvision.utils.make_grid(images))\n",
        "# Print labels\n",
        "print(' '.join(f'{classes[labels[j]]:5s}' for j in range(batch_size)))"
      ],
      "metadata": {
        "id": "7UrlJAlZPrnz",
        "colab": {
          "base_uri": "https://localhost:8080/",
          "height": 210
        },
        "outputId": "3e4e4ac7-3c7d-440c-b64c-ff8316ed6db2"
      },
      "execution_count": 9,
      "outputs": [
        {
          "output_type": "display_data",
          "data": {
            "text/plain": [
              "<Figure size 640x480 with 1 Axes>"
            ],
            "image/png": "[encoded data removed]"
          },
          "metadata": {}
        },
        {
          "output_type": "stream",
          "name": "stdout",
          "text": [
            "cat   plane car   horse\n"
          ]
        }
      ]
    },
    {
      "cell_type": "code",
      "source": [
        "# Define the mdoel\n",
        "import torch.nn as nn\n",
        "import torch.nn.functional as F\n",
        "\n",
        "class Net(nn.Module):\n",
        "    def __init__(self):\n",
        "        # Add code here\n",
        "        super().__init__()\n",
        "        self.conv1 = nn.Conv2d(3, 6, 5)\n",
        "        self.pool = nn.MaxPool2d(2, 2)\n",
        "        self.conv2 = nn.Conv2d(6, 16, 5)\n",
        "        self.fc1 = nn.Linear(16 * 5 * 5, 120)\n",
        "        self.fc2 = nn.Linear(120, 84)\n",
        "        self.fc3 = nn.Linear(84, 10)\n",
        "\n",
        "    def forward(self, x):\n",
        "        # Add code here\n",
        "        x = self.pool(F.relu(self.conv1(x)))\n",
        "        x = self.pool(F.relu(self.conv2(x)))\n",
        "        x = torch.flatten(x, 1) # flatten all dimensions except batch\n",
        "        x = F.relu(self.fc1(x))\n",
        "        x = F.relu(self.fc2(x))\n",
        "        x = self.fc3(x)\n",
        "        return x\n",
        "\n",
        "\n",
        "net = Net()"
      ],
      "metadata": {
        "id": "nejehJzGQt1C"
      },
      "execution_count": 10,
      "outputs": []
    },
    {
      "cell_type": "code",
      "source": [
        "# Define the loss and the optimizer\n",
        "import torch.optim as optim\n",
        "\n",
        "criterion = nn.CrossEntropyLoss()\n",
        "optimizer = optim.SGD(net.parameters(), lr=0.001, momentum=0.9)"
      ],
      "metadata": {
        "id": "z1OpfYK7QzwY"
      },
      "execution_count": 11,
      "outputs": []
    },
    {
      "cell_type": "code",
      "source": [
        "# Train the network\n",
        "for epoch in range(30):  # Loop over the dataset multiple times\n",
        "\n",
        "    running_loss = 0.0\n",
        "\n",
        "    for i, data in enumerate(trainloader, 0):\n",
        "        # Get the inputs; data is a list of [inputs, labels]\n",
        "        inputs, labels = data\n",
        "\n",
        "        # Zero the parameter gradients\n",
        "        optimizer.zero_grad()\n",
        "\n",
        "        # Forward + backward + optimize\n",
        "        outputs = net(inputs)\n",
        "        loss = criterion(outputs, labels)\n",
        "        loss.backward()\n",
        "        optimizer.step()\n",
        "\n",
        "        # Print statistics\n",
        "        running_loss += loss.item()\n",
        "        if i % 2000 == 1999:    # Print every 2000 mini-batches\n",
        "            # Add code here\n",
        "            print(f'[{epoch + 1}, {i + 1:5d}] loss: {running_loss / 2000:.3f}')\n",
        "            running_loss = 0.0\n",
        "\n",
        "\n",
        "print('Finished Training')"
      ],
      "metadata": {
        "id": "m_WAigBgQ6EW",
        "colab": {
          "base_uri": "https://localhost:8080/"
        },
        "outputId": "c9d9d898-44c8-4284-8a26-a162790d019d"
      },
      "execution_count": 30,
      "outputs": [
        {
          "output_type": "stream",
          "name": "stdout",
          "text": [
            "[1,  2000] loss: 0.169\n",
            "[2,  2000] loss: 0.162\n",
            "[3,  2000] loss: 0.155\n",
            "[4,  2000] loss: 0.152\n",
            "[5,  2000] loss: 0.146\n",
            "[6,  2000] loss: 0.141\n",
            "[7,  2000] loss: 0.134\n",
            "[8,  2000] loss: 0.130\n",
            "[9,  2000] loss: 0.125\n",
            "[10,  2000] loss: 0.120\n",
            "[11,  2000] loss: 0.116\n",
            "[12,  2000] loss: 0.113\n",
            "[13,  2000] loss: 0.109\n",
            "[14,  2000] loss: 0.107\n",
            "[15,  2000] loss: 0.101\n",
            "[16,  2000] loss: 0.097\n",
            "[17,  2000] loss: 0.093\n",
            "[18,  2000] loss: 0.095\n",
            "[19,  2000] loss: 0.089\n",
            "[20,  2000] loss: 0.087\n",
            "[21,  2000] loss: 0.083\n",
            "[22,  2000] loss: 0.082\n",
            "[23,  2000] loss: 0.078\n",
            "[24,  2000] loss: 0.077\n",
            "[25,  2000] loss: 0.076\n",
            "[26,  2000] loss: 0.065\n",
            "[27,  2000] loss: 0.067\n",
            "[28,  2000] loss: 0.065\n",
            "[29,  2000] loss: 0.067\n",
            "[30,  2000] loss: 0.060\n",
            "Finished Training\n"
          ]
        }
      ]
    },
    {
      "cell_type": "code",
      "source": [
        "# Test the network\n",
        "correct = 0\n",
        "total = 0\n",
        "# Since we're not training, we don't need to calculate the gradients for our outputs\n",
        "with torch.no_grad():\n",
        "    for data in testloader:\n",
        "        # Add code here... \n",
        "        images, labels = data\n",
        "        # Calculate outputs by running images through the network\n",
        "        outputs = net(images)\n",
        "        # The class with the highest energy is what we choose as prediction\n",
        "        _, predicted = torch.max(outputs.data,1)\n",
        "        total += labels.size(0)\n",
        "        correct += (predicted == labels).sum().item()\n",
        "\n",
        "print(f'Accuracy of the network on the 10000 test images: {100 * correct // total} %')\n"
      ],
      "metadata": {
        "id": "fZQq7U4rRKNi",
        "colab": {
          "base_uri": "https://localhost:8080/"
        },
        "outputId": "e592e141-43ac-449c-b9ca-ed468955bfb2"
      },
      "execution_count": 31,
      "outputs": [
        {
          "output_type": "stream",
          "name": "stdout",
          "text": [
            "Accuracy of the network on the 10000 test images: 98 %\n"
          ]
        }
      ]
    },
    {
      "cell_type": "markdown",
      "source": [
        "Train more epochs by editing the code above. Can you get the accuracy better than 60%? Write your answer below in code or text form."
      ],
      "metadata": {
        "id": "fZzjS69egq2G"
      }
    },
    {
      "cell_type": "markdown",
      "source": [
        "** I reran the code multiple times to get accruacy above 60%. I tried with epoch, 2,5,15,25,30. Finally with Epoch 30 i got 98% accuracy."
      ],
      "metadata": {
        "id": "HcYpuMkcg71c"
      }
    },
    {
      "cell_type": "markdown",
      "source": [
        "##Part 2: SVHN Classification \n",
        "Follow the tutorial from above, replicating steps using the SVHN dataset instead of the CIFAR10. "
      ],
      "metadata": {
        "id": "hUB6WhFLe3lp"
      }
    },
    {
      "cell_type": "code",
      "source": [
        "# Load the SVHN data\n",
        "import torch\n",
        "import torchvision\n",
        "import torchvision.transforms as transforms\n",
        "\n",
        "transform = transforms.Compose(\n",
        "    [transforms.ToTensor(),\n",
        "     transforms.Normalize((0.5, 0.5, 0.5), (0.5, 0.5, 0.5))])\n",
        "\n",
        "batch_size = 32\n",
        "\n",
        "trainset = torchvision.datasets.SVHN(root='data/',\n",
        "                                        download=True, transform=transform)\n",
        "trainloader = torch.utils.data.DataLoader(trainset, batch_size=batch_size,\n",
        "                                          shuffle=True, num_workers=2)\n",
        "\n",
        "testset = torchvision.datasets.SVHN(root='data/',\n",
        "                                       download=True, transform=transform)\n",
        "testloader = torch.utils.data.DataLoader(testset, batch_size=batch_size,\n",
        "                                         shuffle=False, num_workers=2)\n",
        "\n",
        "# Do not need the classes variable as there is no need to visualize"
      ],
      "metadata": {
        "id": "POwhJcWBVcXR",
        "colab": {
          "base_uri": "https://localhost:8080/"
        },
        "outputId": "da4ecf10-dd36-4fa1-c455-a3324c37f9cd"
      },
      "execution_count": 23,
      "outputs": [
        {
          "output_type": "stream",
          "name": "stdout",
          "text": [
            "Downloading http://ufldl.stanford.edu/housenumbers/train_32x32.mat to data/train_32x32.mat\n"
          ]
        },
        {
          "output_type": "stream",
          "name": "stderr",
          "text": [
            "100%|██████████| 182040794/182040794 [00:03<00:00, 57787367.40it/s]\n"
          ]
        },
        {
          "output_type": "stream",
          "name": "stdout",
          "text": [
            "Using downloaded and verified file: data/train_32x32.mat\n"
          ]
        }
      ]
    },
    {
      "cell_type": "code",
      "source": [
        "# Define the mdoel\n",
        "import torch.nn as nn\n",
        "import torch.nn.functional as F\n",
        "\n",
        "class Net(nn.Module):\n",
        "    def __init__(self):\n",
        "        # Add code here\n",
        "        super().__init__()\n",
        "        self.conv1 = nn.Conv2d(3, 6, 5)\n",
        "        self.pool = nn.MaxPool2d(2, 2)\n",
        "        self.conv2 = nn.Conv2d(6, 16, 5)\n",
        "        self.fc1 = nn.Linear(16 * 5 * 5, 120)\n",
        "        self.fc2 = nn.Linear(120, 84)\n",
        "        self.fc3 = nn.Linear(84, 10)\n",
        "\n",
        "    def forward(self, x):\n",
        "        # Add code here\n",
        "        x = self.pool(F.relu(self.conv1(x)))\n",
        "        x = self.pool(F.relu(self.conv2(x)))\n",
        "        x = torch.flatten(x, 1) # flatten all dimensions except batch\n",
        "        x = F.relu(self.fc1(x))\n",
        "        x = F.relu(self.fc2(x))\n",
        "        x = self.fc3(x)\n",
        "        return x\n",
        "\n",
        "\n",
        "net = Net()"
      ],
      "metadata": {
        "id": "0XCG7nsOWiRK"
      },
      "execution_count": 24,
      "outputs": []
    },
    {
      "cell_type": "code",
      "source": [
        "# Define the loss and the optimizer\n",
        "import torch.optim as optim\n",
        "\n",
        "criterion = nn.CrossEntropyLoss()\n",
        "optimizer = optim.SGD(net.parameters(), lr=0.001, momentum=0.9)"
      ],
      "metadata": {
        "id": "nQKLiVJnW1T4"
      },
      "execution_count": 25,
      "outputs": []
    },
    {
      "cell_type": "code",
      "source": [
        "# Train the network\n",
        "for epoch in range(25):  # Loop over the dataset multiple times\n",
        "\n",
        "    running_loss = 0.0\n",
        "\n",
        "    for i, data in enumerate(trainloader, 0):\n",
        "        # Get the inputs; data is a list of [inputs, labels]\n",
        "        inputs, labels = data\n",
        "\n",
        "        # Zero the parameter gradients\n",
        "        optimizer.zero_grad()\n",
        "\n",
        "        # Forward + backward + optimize\n",
        "        outputs = net(inputs)\n",
        "        loss = criterion(outputs, labels)\n",
        "        loss.backward()\n",
        "        optimizer.step()\n",
        "\n",
        "        # Print statistics\n",
        "        running_loss += loss.item()\n",
        "        if i % 2000 == 1999:    # Print every 2000 mini-batches\n",
        "            # Add code here\n",
        "            print(f'[{epoch + 1}, {i + 1:5d}] loss: {running_loss / 2000:.3f}')\n",
        "            running_loss = 0.0\n",
        "\n",
        "\n",
        "print('Finished Training')\n"
      ],
      "metadata": {
        "id": "m3vwNE90W3Q8",
        "colab": {
          "base_uri": "https://localhost:8080/"
        },
        "outputId": "6d4cae58-4476-4957-d4a9-6d7e30c2865d"
      },
      "execution_count": 28,
      "outputs": [
        {
          "output_type": "stream",
          "name": "stdout",
          "text": [
            "[1,  2000] loss: 1.454\n",
            "[2,  2000] loss: 0.673\n",
            "[3,  2000] loss: 0.541\n",
            "[4,  2000] loss: 0.474\n",
            "[5,  2000] loss: 0.427\n",
            "[6,  2000] loss: 0.398\n",
            "[7,  2000] loss: 0.375\n",
            "[8,  2000] loss: 0.350\n",
            "[9,  2000] loss: 0.334\n",
            "[10,  2000] loss: 0.319\n",
            "[11,  2000] loss: 0.306\n",
            "[12,  2000] loss: 0.289\n",
            "[13,  2000] loss: 0.278\n",
            "[14,  2000] loss: 0.266\n",
            "[15,  2000] loss: 0.257\n",
            "[16,  2000] loss: 0.247\n",
            "[17,  2000] loss: 0.236\n",
            "[18,  2000] loss: 0.229\n",
            "[19,  2000] loss: 0.218\n",
            "[20,  2000] loss: 0.210\n",
            "[21,  2000] loss: 0.203\n",
            "[22,  2000] loss: 0.197\n",
            "[23,  2000] loss: 0.188\n",
            "[24,  2000] loss: 0.183\n",
            "[25,  2000] loss: 0.175\n",
            "Finished Training\n"
          ]
        }
      ]
    },
    {
      "cell_type": "code",
      "source": [
        "# Test the network\n",
        "correct = 0\n",
        "total = 0\n",
        "# Since we're not training, we don't need to calculate the gradients for our outputs\n",
        "with torch.no_grad():\n",
        "    for data in testloader:\n",
        "        # Add code here... \n",
        "        images, labels = data\n",
        "        # Calculate outputs by running images through the network\n",
        "        outputs = net(images)\n",
        "        # The class with the highest energy is what we choose as prediction\n",
        "        _, predicted = torch.max(outputs.data,1)\n",
        "        total += labels.size(0)\n",
        "        correct += (predicted == labels).sum().item()\n",
        "\n",
        "print(f'Accuracy of the network on the 10000 test images: {100 * correct // total} %')"
      ],
      "metadata": {
        "id": "-wOQmsKDW6QG",
        "colab": {
          "base_uri": "https://localhost:8080/"
        },
        "outputId": "05d5efc4-9daf-476e-a01d-25e70b98c599"
      },
      "execution_count": 29,
      "outputs": [
        {
          "output_type": "stream",
          "name": "stdout",
          "text": [
            "Accuracy of the network on the 10000 test images: 95 %\n"
          ]
        }
      ]
    },
    {
      "cell_type": "markdown",
      "source": [
        "Can you get a better accuracy than your Homework 3? Write your answer below in code or text form. "
      ],
      "metadata": {
        "id": "uir-J3ZUhCwq"
      }
    },
    {
      "cell_type": "markdown",
      "source": [
        "** Yes, I was able to get a better accuracy than Homework 3. I did a trail and error method and achieved a 95% accuracy with epoch 25."
      ],
      "metadata": {
        "id": "KOOSRVWnhKAP"
      }
    }
  ]
}